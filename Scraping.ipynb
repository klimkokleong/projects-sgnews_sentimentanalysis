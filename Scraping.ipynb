{
 "cells": [
  {
   "cell_type": "markdown",
   "metadata": {},
   "source": [
    "# PLEASE CHANGE THE NAME OF CSV BEFORE RUNNING SCRIPT"
   ]
  },
  {
   "cell_type": "code",
   "execution_count": 1,
   "metadata": {},
   "outputs": [],
   "source": [
    "import requests \n",
    "from bs4 import BeautifulSoup\n",
    "import pandas as pd"
   ]
  },
  {
   "cell_type": "markdown",
   "metadata": {},
   "source": [
    "# ChannelNewsAsia"
   ]
  },
  {
   "cell_type": "code",
   "execution_count": 2,
   "metadata": {},
   "outputs": [
    {
     "data": {
      "text/plain": [
       "['COVID-19: Rigorous testing could help revive travel but challenges remain, say experts',\n",
       " '42 new COVID-19 cases in Singapore, including 4 community infections',\n",
       " 'Tired staff, but pushing on: How TTSH-NCID responded to COVID-19 from day one',\n",
       " 'Hot in the city: Rising night temperatures a potentially major health issue in Asian metropolises',\n",
       " 'Online concerts and government spending: How K-pop is riding out the COVID-19 pandemic',\n",
       " 'Hit by circuit breaker and tenant restrictions, new mall in Changi still empty 9 months after it was built',\n",
       " 'Myanmar residents barricade city streets as COVID-19 cases rise',\n",
       " \"Creative Capital: The actor who's also a photographer and creative director\",\n",
       " 'Commentary: How much should young couples spend on their first home?',\n",
       " \"France's daily COVID-19 cases pass 10,000 for first time\",\n",
       " 'AstraZeneca resumes UK trials of COVID-19 vaccine halted by patient illness',\n",
       " 'Smog blankets US West Coast as deadly wildfires rage',\n",
       " 'Commentary: America needs a government without the drama or disaster',\n",
       " \"Sheila Sim isn't keen on her daughter following in her catwalk footsteps\",\n",
       " 'BooksActually bids farewell to Tiong Bahru and transforms into online store',\n",
       " 'Commentary: Klopp will lead Liverpool to EPL glory again',\n",
       " 'Pakistani police hunt for gang rape suspects as protests held across country',\n",
       " 'Facebook removes posts linking Oregon wildfires to activist groups',\n",
       " 'Commentary: Worst time ever to be an overseas Filipino worker',\n",
       " 'Facebook removes posts linking Oregon wildfires to activist groups',\n",
       " \"Champion Osaka harnesses sport's biggest spotlight in fight for racial justice\",\n",
       " 'Late free kick salvages point for Santos against Sao Paulo',\n",
       " 'BooksActually bids farewell to Tiong Bahru and transforms into online store',\n",
       " 'Trump heads to Nevada on campaign trip to woo supporters, raise cash',\n",
       " 'Smog blankets US West Coast as deadly wildfires rage',\n",
       " 'As wildfires rage, US voters still divided on climate',\n",
       " 'Tennis; Osaka beats Azarenka to win US Open and third Grand Slam',\n",
       " 'Tired staff, but pushing on: How TTSH-NCID responded to COVID-19 from day one',\n",
       " 'Paradise island no more? Phuket hotels are fighting for survival amid pandemic',\n",
       " 'His businesses went south during COVID-19, but he still set up a social enterprise',\n",
       " 'How to cope, adapt and thrive even when everything keeps changing',\n",
       " 'The pandemic of work-from-home injuries: Causes and solutions',\n",
       " 'If you want to age well, consider picking up the pace when you exercise',\n",
       " 'How to cope, adapt and thrive even when everything keeps changing',\n",
       " 'The pandemic of work-from-home injuries: Causes and solutions',\n",
       " \"Creative Capital: The actor who's also a photographer and creative director\",\n",
       " 'Singapore’s race for a vaccine: Can it be won before second wave of COVID-19 hits?',\n",
       " '‘Help’s out there, just ask’: How dementia day care helped, when grandpa kept getting lost',\n",
       " 'To help Singapore’s youth at risk, these outreach workers must hit the streets, and fit in',\n",
       " 'Ever ready for an apocalypse: Inside the minds of doomsday preppers in Singapore',\n",
       " 'The Korean Wave: How interest in K-pop is surging as fans stay home | Video',\n",
       " 'More Singapore firms pivot business models, offer healthcare products amid COVID-19| Video',\n",
       " 'More than 260 people being investigated after S$3 million lost to scams | Video',\n",
       " 'More job opportunities in deep technology sector amid COVID-19: S Iswaran | Video',\n",
       " 'More than 3,500 electronic wristband devices issued to travellers serving stay-home notices: ICA | Video',\n",
       " 'UK-EU trade talks in stalemate as Brexit transition deadline looms | Video',\n",
       " 'Jakarta puppet street buskers adapt to COVID-19 pandemic | Video',\n",
       " 'Taiwan-China trade deal under threat from cross-strait tension | Video',\n",
       " 'COVID-19: The electronic monitoring device travellers on stay-home notice must wear | Video',\n",
       " '‘Japandi’ meets Peranakan in 850 sq ft Joo Chiat condo | CNA Lifestyle',\n",
       " 'Why It Matters 4',\n",
       " 'Money Mind 2020/2021',\n",
       " 'In Conversation',\n",
       " 'Insight 2020/2021']"
      ]
     },
     "execution_count": 2,
     "metadata": {},
     "output_type": "execute_result"
    }
   ],
   "source": [
    "cna_url = \"https://www.channelnewsasia.com/\"\n",
    "page = requests.get(cna_url).text\n",
    "soup = BeautifulSoup(page)\n",
    "teaser_heading = soup.find_all('h3',{\"class\":\"teaser__heading\"})\n",
    "text = [tag.get_text().strip() for tag in teaser_heading]\n",
    "text"
   ]
  },
  {
   "cell_type": "code",
   "execution_count": 3,
   "metadata": {},
   "outputs": [],
   "source": [
    "cna = pd.DataFrame(text)\n",
    "cna.to_csv(\"cna_13sept.csv\")"
   ]
  },
  {
   "cell_type": "markdown",
   "metadata": {},
   "source": [
    "# Today Online"
   ]
  },
  {
   "cell_type": "code",
   "execution_count": 4,
   "metadata": {},
   "outputs": [
    {
     "data": {
      "text/plain": [
       "['The Big Read: For migrant workers in trouble, navigating S’pore’s legal system can be a challenge ',\n",
       " 'The Big Read in short: Migrant workers’ access to justice',\n",
       " 'The ‘second wave of trauma’: Why victim-blaming happens in sexual assault cases and its implications',\n",
       " 'Despite options to perform online, buskers yearn for return to the streets  ',\n",
       " '42 new Covid-19 infections in Singapore, including 10 imported cases and 4 in the community',\n",
       " 'Malaysia looking to fully reopen borders with Singapore in January: Report',\n",
       " 'NUS undergrad admits to filming female hostel residents showering, tried to avoid detection when caught',\n",
       " 'Driver flees from police, sparking high-speed chase before crashing into tree at Canberra Street',\n",
       " 'International school group offers more than 100 jobs to retrenched SIA Group staff',\n",
       " 'Tampered letterboxes in Chua Chu Kang: 5 teenagers arrested for theft',\n",
       " '‘Absolutely false’ that posts against Ashley Liew were made to gain more social media followers: Soh Rui Yong ',\n",
       " 'British insurer Aviva to sell Singapore business for S$2.7 billion',\n",
       " '86 new Covid-19 infections in Singapore, including 13 imported cases; 1 new cluster identified',\n",
       " 'S$5,000 fine for Sengkang flat owner who hosted gathering of 18 during circuit breaker',\n",
       " '71-year-old woman taken to hospital after four-vehicle crash at Clementi Road junction ',\n",
       " 'Singapore, Japan to launch reciprocal green lane for essential travel from Sept 18',\n",
       " ' Letterbox master doors of six HDB blocks in Chua Chu Kang forcibly pried open: SingPost',\n",
       " 'Is staying home harming your child’s immune system?',\n",
       " 'When learning is really remote: Students climb trees and travel miles for a cell signal',\n",
       " '‘Dwarf pride’ was hard won. Will a growth drug undermine it?',\n",
       " 'A routine can benefit minds and bodies',\n",
       " 'Swedish fish dish is so pungent it should be opened outdoors',\n",
       " \"Scientists confounded by new findings on universe's mysterious dark matter\",\n",
       " 'Covid-19 regains momentum in Malaysia as 182 new cases reported',\n",
       " 'Thailand finds second Covid-19 infection after long absence',\n",
       " 'Covid-19 symptoms usually last months, large-scale Dutch survey suggests ',\n",
       " 'North Korea issues shoot-to-kill orders to prevent virus: US',\n",
       " 'It is okay not to be okay — a lawyer’s take on his mental wellness amid Covid-19',\n",
       " 'Can I still be hacked with 2FA enabled?',\n",
       " \"Debate over Thailand’s plan to 'scrap' Kra Canal is much ado about nothing\",\n",
       " 'Earth could temporarily pass dangerous 1.5℃ warming limit by 2024',\n",
       " 'Resuming library services: Phased approach taken for safety of users and staff, says NLB',\n",
       " 'World Suicide Prevention Day: 5 ways to care for people around us ',\n",
       " 'Jobseekers’ Diaries: I was anxious and lost, but didn’t give up on my interest in Japanese cooking',\n",
       " 'Gen Y Speaks: RP’s Charles Yeo and I just can’t see eye to eye. But we agree to disagree',\n",
       " \"Gen Y Speaks: I've been a digital native from young. Too bad my parents aren’t\",\n",
       " 'Gen Y Speaks: I am disabled but tech takes me to the world and brings the world to me',\n",
       " 'Gen Y Speaks: Why I was back at work 2 days after becoming a first-time mum',\n",
       " 'Gen Y Speaks: My dad’s business failure haunted me for years. Now I’m taking the plunge ',\n",
       " 'Gen Y Speaks: Why I don’t turn green with envy when those around me do well',\n",
       " 'Gen Y Speaks: Covid-19 has dealt my social enterprise a crushing blow. But I am not giving up',\n",
       " 'Gen Y Speaks: I am proof that women can thrive in a male-dominated tech sector',\n",
       " 'Gen Y Speaks: As first-time voters, this is what we look out for this GE',\n",
       " 'Gen Y Speaks: I found my calling as a dentist, after a detour as an SIA flight stewardess',\n",
       " 'The Big Read: For migrant workers in trouble, navigating S’pore’s legal system can be a challenge ',\n",
       " 'The Big Read in short: Migrant workers’ access to justice',\n",
       " 'The Big Read: Facing job uncertainty and online vitriol, expats in S’pore share their worries and anxieties  ',\n",
       " 'The Big Read in short: A tough time for expats too ',\n",
       " 'The Big Read: Overcoming their scepticism, jobseekers find ray of hope in traineeships amid gloomy job market',\n",
       " 'The Big Read in short: Traineeships bearing fruit, even for sceptics ',\n",
       " \"The Big Read: With globalisation in retreat, Asean can offer S'pore a way forward in post-Covid world\",\n",
       " 'The Big Read in short: Amid Covid-19 gloom, Asean can hold the key to S’pore’s recovery',\n",
       " 'The Big Read: With Covid-19 annihilating jobs, many are feeling the pain — and it will get worse ',\n",
       " 'The Big Read in short: How bad is the retrenchment situation, and how much worse it will get']"
      ]
     },
     "execution_count": 4,
     "metadata": {},
     "output_type": "execute_result"
    }
   ],
   "source": [
    "# Go to Inspect, Network, XHR, homepage, previews\n",
    "tdy_url = \"https://www.todayonline.com/api/v3/homepage\"\n",
    "page = requests.get(tdy_url).json()\n",
    "titles = []\n",
    "\n",
    "for each_dictionary in page[\"main_menu\"]:   #page is a huge dictionary\n",
    "    if (each_dictionary[\"menu_title\"] != 'Brand Spotlight') & (each_dictionary[\"menu_title\"] != 'From 8 DAYS') :\n",
    "        api_url = each_dictionary[\"menu_api_url\"]\n",
    "        page = requests.get(api_url).json()\n",
    "        for each_list in page.values():   #page is dictionary\n",
    "            for each_dictionary in each_list:   \n",
    "                for value in each_dictionary.values(): #value is a dictionary\n",
    "                    for last_key,last_value in value.items():\n",
    "                        if last_key == \"title\":\n",
    "                            titles.append(last_value)\n",
    "                        \n",
    "titles"
   ]
  },
  {
   "cell_type": "code",
   "execution_count": 5,
   "metadata": {},
   "outputs": [],
   "source": [
    "today = pd.DataFrame(titles)\n",
    "today.to_csv(\"today_13sept.csv\")"
   ]
  },
  {
   "cell_type": "markdown",
   "metadata": {},
   "source": [
    "# Mothership"
   ]
  },
  {
   "cell_type": "code",
   "execution_count": 6,
   "metadata": {},
   "outputs": [
    {
     "data": {
      "text/plain": [
       "['Capitol Singapore Mooncake Fair 2020',\n",
       " \"Therapy dog trained to understand Hokkien spent her last days comforting S'pore hospice patients\",\n",
       " \"Opatra S'pore: We strive for best customer experience, cleaner incident 'painted in different light'\",\n",
       " \"42 new Covid-19 cases in S'pore on Sep. 12, 4 cases in community\",\n",
       " \"Comment: Should S'poreans who live in private property be entitled to financial aid?\",\n",
       " 'BooksActually closing down physical shop in Tiong Bahru to go online fully',\n",
       " 'Bukit Timah canal fills to the brim due to Saturday torrential rain',\n",
       " '92 more Covid-19 cases discharged from hospitals or community care facilities, 631 remain',\n",
       " 'Tigerair Australia shuts down due to Covid-19 after operating for 13 years',\n",
       " \"S'pore company Singlife acquires Aviva S'pore for S$2.7 billion\",\n",
       " \"Opatra S'pore: We strive for best customer experience, cleaner incident 'painted in different light'\",\n",
       " \"Therapy dog trained to understand Hokkien spent her last days comforting S'pore hospice patients\",\n",
       " 'Man, 31, arrested after high-speed car chase from Central Expressway to Canberra St',\n",
       " \"42 new Covid-19 cases in S'pore on Sep. 12, 4 cases in community\",\n",
       " 'Capitol Singapore Mooncake Fair 2020']"
      ]
     },
     "execution_count": 6,
     "metadata": {},
     "output_type": "execute_result"
    }
   ],
   "source": [
    "ms_url = \"https://mothership.sg/\"\n",
    "page = requests.get(ms_url).text\n",
    "soup = BeautifulSoup(page)\n",
    "title = soup.find_all('h1')\n",
    "text = [tag.get_text().strip() for tag in title]\n",
    "text"
   ]
  },
  {
   "cell_type": "code",
   "execution_count": 7,
   "metadata": {},
   "outputs": [],
   "source": [
    "mothership = pd.DataFrame(text)\n",
    "mothership.to_csv(\"mothership_13sept.csv\")"
   ]
  },
  {
   "cell_type": "markdown",
   "metadata": {},
   "source": [
    "# The Independent"
   ]
  },
  {
   "cell_type": "code",
   "execution_count": 8,
   "metadata": {},
   "outputs": [
    {
     "data": {
      "text/plain": [
       "['Former Law Society complaint against Lucien Wong “is troubling”, says Lee Hsien Yang',\n",
       " 'Singapore Airlines Group retrenches 2,400 staff as it cuts 4,300 jobs',\n",
       " 'VIDEO: China tries to flip the pandemic script, starring a ‘reborn’ Wuhan',\n",
       " 'Wonder Woman 1984 scheduled to air on Christmas Eve',\n",
       " 'The late Sulli’s mother opened up about their relationship and  about Sulli’s boyfriend Choiza',\n",
       " 'Disney’s beleaguered ‘Mulan’ wins positive review from China ministry',\n",
       " 'VIDEO –  Biden: Trump’s Covid-19 response was ‘a life and death betrayal’',\n",
       " 'Two Asian Hollywood stars join in the criticism of Mulan remake',\n",
       " 'BTS member RM shares about Dynamite’s success among US listeners',\n",
       " 'VIDEO: China praises controversial Mulan actress',\n",
       " 'Latest on video: Parti Liyani lawyer on why he took on the case',\n",
       " 'VIDEO: Powerful typhoon approaches Japan with violent winds, heavy rain',\n",
       " 'DPM Heng: Do join initiative for seniors as part of East Coast plan',\n",
       " 'Joo Won wakes up 10 years in the past and finds Kim Hee Sun as a college student',\n",
       " 'Is the landscape changing for expat jobs in Singapore?',\n",
       " 'PAP has been enjoying the mother of all free rides – until GE2020',\n",
       " 'Malaysia’s Vacuous Vision 2020, Reflection & Rapid Reset Required',\n",
       " 'Homeless and jobless, here’s one Australian’s tale of being abandoned in Singapore',\n",
       " '#CancelNetflix campaign heats up over ‘Cuties’',\n",
       " 'Dee Hsu says Taiwanese talk show reboot will not happen',\n",
       " 'K-pop group CLC talks about ‘Helicopter’, making a comeback and BTS',\n",
       " 'Sacha Baron Cohen has completed filming for Borat 2']"
      ]
     },
     "execution_count": 8,
     "metadata": {},
     "output_type": "execute_result"
    }
   ],
   "source": [
    "ind_url = \"http://theindependent.sg/\"\n",
    "page = requests.get(ind_url).text\n",
    "soup = BeautifulSoup(page)\n",
    "title = soup.find_all('h3')\n",
    "text = [tag.get_text().strip() for tag in title]\n",
    "text"
   ]
  },
  {
   "cell_type": "code",
   "execution_count": 9,
   "metadata": {},
   "outputs": [],
   "source": [
    "ind = pd.DataFrame(text)\n",
    "ind.to_csv(\"ind_13sept.csv\")"
   ]
  },
  {
   "cell_type": "markdown",
   "metadata": {},
   "source": [
    "# MustShareNews"
   ]
  },
  {
   "cell_type": "code",
   "execution_count": 10,
   "metadata": {},
   "outputs": [
    {
     "data": {
      "text/plain": [
       "['Private-Hire Drivers Will Get More Support From Govt, Package To Be Announced Soon',\n",
       " 'Bukit Timah Canal Fills Up After Torrential Rainfall In West & Central S’pore',\n",
       " '42 New Covid-19 Cases On 12 Sep, 1 PR Among 4 Community Infections',\n",
       " 'Peranakan Nasi Lemak Trends On Twitter, Netizens Debate On Origins Of Dish',\n",
       " 'Large Crocodile Seen Near Sungei Buloh Trail, Camouflages Perfectly With Murky Waters',\n",
       " 'Private-Hire Drivers Will Get More Support From Govt, Package To Be Announced Soon',\n",
       " 'Bukit Timah Canal Fills Up After Torrential Rainfall In West & Central S’pore',\n",
       " '42 New Covid-19 Cases On 12 Sep, 1 PR Among 4 Community Infections',\n",
       " 'Peranakan Nasi Lemak Trends On Twitter, Netizens Debate On Origins Of Dish',\n",
       " 'Large Crocodile Seen Near Sungei Buloh Trail, Camouflages Perfectly With Murky Waters',\n",
       " 'Private-Hire Drivers Will Get More Support From Govt, Package To Be Announced Soon',\n",
       " 'Bukit Timah Canal Fills Up After Torrential Rainfall In West & Central S’pore',\n",
       " '42 New Covid-19 Cases On 12 Sep, 1 PR Among 4 Community Infections',\n",
       " 'Peranakan Nasi Lemak Trends On Twitter, Netizens Debate On Origins Of Dish',\n",
       " 'Large Crocodile Seen Near Sungei Buloh Trail, Camouflages Perfectly With Murky Waters',\n",
       " 'Starbucks Container Café In Shanghai Has A 3D Art Gallery & Glass Rooftop Nooks',\n",
       " 'Volkswagen Goes Against Traffic In Thrilling Sembawang Car Chase, 31-Year-Old Driver Arrested',\n",
       " 'M’sian Hairstylist Survived A Stroke In S’pore, Netizens Raise Funds To Help Him',\n",
       " 'This Laptop Docking Hub Saves You From Tangled Cables In Office After WFH Meetings',\n",
       " 'Don Don Donki Closes At Changi Airport T3, Netizens Hope They Move To Tampines',\n",
       " 'This Laptop Docking Hub Saves You From Tangled Cables In Office After WFH Meetings',\n",
       " 'Popeyes Brings Viral Chicken Sandwich To S’pore, 300 People Can Get It For $0 At Bugis',\n",
       " 'RedONE’s Mobile Plans Have 20GB Data For You To WhatsApp Your Parents 24/7',\n",
       " 'City Square Mall Has $10 Vouchers For Grocery Hauls, Can Stock Up On WFH Treats',\n",
       " 'COURTS Has Discounts On Essential BTO Items For New Homeowners Till 13 Sep']"
      ]
     },
     "execution_count": 10,
     "metadata": {},
     "output_type": "execute_result"
    }
   ],
   "source": [
    "msnews_url = \"https://mustsharenews.com/\"\n",
    "page = requests.get(msnews_url).text\n",
    "soup = BeautifulSoup(page)\n",
    "title = soup.find_all('h3')\n",
    "text = [tag.get_text().strip() for tag in title]\n",
    "text\n",
    "\n",
    "# May have repeated titles. "
   ]
  },
  {
   "cell_type": "code",
   "execution_count": 11,
   "metadata": {},
   "outputs": [],
   "source": [
    "msn = pd.DataFrame(text)\n",
    "msn.to_csv(\"msn_13sept.csv\")"
   ]
  },
  {
   "cell_type": "markdown",
   "metadata": {},
   "source": [
    "# Straits Times"
   ]
  },
  {
   "cell_type": "code",
   "execution_count": 12,
   "metadata": {},
   "outputs": [
    {
     "data": {
      "text/plain": [
       "['Skyscraper resale flat prices in Singapore hit new highs despite Covid-19 crisis',\n",
       " 'He placed a winning $1.07m bid for Bishan DBSS flat at start of circuit breaker',\n",
       " '1 maid, 2 jobs: Maids made to clean more than one home rarely complain',\n",
       " 'Asean voices concern over activities in South China Sea',\n",
       " 'He gave up a career in banking to do good and sell snacks',\n",
       " 'The curious case of the maid, the business tycoon and the pink knife',\n",
       " 'askST: If I collect the TraceTogether token, do I still need the app? All you need to know about the device',\n",
       " 'Tennis: Osaka beats Azarenka to win US Open and third Grand Slam',\n",
       " \"Japan-Singapore ties bloomed under Abe's leadership\",\n",
       " 'Do local business grads have what it takes to secure jobs?',\n",
       " \"Growth of deep tech sector means exciting career opportunities for S'poreans: Iswaran\",\n",
       " 'Content marketing with BrandInsider',\n",
       " 'Hedy Khoo \\n\\n\\nHungry Ghost Festival: Caterers launch delivery menus and frozen food; getai performers and fans go online',\n",
       " 'Rohit Brijnath\\n\\n\\nToughest Part of Sport: The burden of weight',\n",
       " 'ePAPER',\n",
       " 'Benson Ang\\n\\n\\nThe Life List: Celebs who lashed out with lawsuits over their image and likeness',\n",
       " 'Prisca Ang\\n\\n\\nHarvey Norman, Decathlon among players opening more physical stores despite retail slump',\n",
       " 'Ovais Subhani\\n\\n\\nDetailed data needed for debate on jobs for locals and foreigners',\n",
       " 'Christopher Tan\\n\\n\\nSleek versatility: Audi A6 Avant 2.0',\n",
       " 'AstraZeneca says trials of Covid-19 vaccine resuming',\n",
       " 'Oxygen grows scarce in some parts of India as coronavirus cases rise',\n",
       " 'How should we decide who gets Covid-19 vaccine first?',\n",
       " 'Collect free reusable masks from vending machines from Sept 21',\n",
       " '',\n",
       " 'Chua Mui Hoong\\n\\n\\nThe curious case of the maid, the business tycoon and the pink knife',\n",
       " \"Walter Sim\\n\\n\\nThe China factor behind Japan's latest defence moves\",\n",
       " 'Tan Ooi Boon\\n\\n\\nDo local business grads have what it takes to secure jobs?',\n",
       " 'Markus Ziener\\n\\n\\nNo high hopes for EU-China summit which is unlikely to reverse the dip in ties',\n",
       " 'Sept 12, 2020',\n",
       " 'Trixia Enriquez Carungcong\\n\\n\\nCan you write better than a robot?',\n",
       " \"Nirmal Ghosh\\n\\n\\nTrump's ratings unlikely to be hit by barrage of tell-all books, say experts\",\n",
       " 'Richard Jolly\\n\\n\\nEPL more competitive even if La Liga draws the superstars',\n",
       " 'Daisann McLane\\n\\nA freshly killed chicken is mightier than the coronavirus',\n",
       " \"SIA looks to launch 'flights to nowhere' by end-October to mitigate Covid-19 fallout: Sources\",\n",
       " 'Chef Tan Yong Hua of Restaurant Home dies of heart failure in his sleep',\n",
       " 'TikTok owner plans to spend billions in Singapore after US ban',\n",
       " 'Malaysia looking at fully reopening border with Singapore in January',\n",
       " \"Retrenched SIA staff to get one month's pay for every year of service, capped at 25 months\",\n",
       " '31-year-old man arrested after driving against traffic in high-speed car chase; passenger at large',\n",
       " \"Topshop's and Topman's last store in Singapore to close on Sept 17; both brands to go online\",\n",
       " 'askST: If I collect the TraceTogether token, do I still need the app? All you need to know about the device',\n",
       " 'Home owner who hosted gathering in Sengkang flat during circuit breaker period fined $5,000',\n",
       " 'Singlife and Aviva Singapore to merge in $3.2 billion deal that will make it one of the largest in South-east Asia',\n",
       " 'ST & BT Podcasts of the week (Sept 11)',\n",
       " 'Asian Insider Podcast: India & China edging towards more serious conflict in the Himalayas?',\n",
       " 'Lifestyle Picks Podcast: Satirical zombie apocalypse flick and war film about Chinese history',\n",
       " 'Health Check Podcast: Understanding stress in age of the coronavirus',\n",
       " 'Wahyudi Soeriaatmadja\\n\\n and \\nArlina Arshad\\n\\n\\nJakarta residents despondent as city braces itself for another round of Covid-19 restrictions',\n",
       " 'Arvind Jayaram\\n\\n\\nAsian Insider, Sept 11: China, India to ease border tension; Australia explains raids on Chinese journalists; Jokowi’s journey as Indonesia’s leader',\n",
       " 'The Straits Times Asian Insider magazine: Download September issue here',\n",
       " \"Malaysia's ruling pact fails unity test in Sabah, contesting against one another in state poll\",\n",
       " \"The China factor behind Japan's latest defence moves\",\n",
       " 'Hungry Ghost Festival: Caterers launch delivery menus and frozen food; getai performers and fans go online',\n",
       " 'CBD eateries struggle to stay afloat as workers stay home and financial aid dries up',\n",
       " 'Hospitals whip up special dishes for Covid-19 patients',\n",
       " 'Chef Tan Yong Hua of Restaurant Home dies of heart failure in his sleep',\n",
       " \"Ups and downs of Shinzo Abe's tenure as Japan PM\",\n",
       " 'askST: If I collect the TraceTogether token, do I still need the app? All you need to know about the device',\n",
       " '3 key issues in the historic Afghan peace talks',\n",
       " 'Six months into Covid-19 pandemic: 6 things we know so far',\n",
       " \"Five takeaways from 'Rage,' Bob Woodward's new book about Trump\",\n",
       " 'How to collect your free TraceTogether token: 5 things to know about the device',\n",
       " 'A rewarding career helping children with autism lead productive lives',\n",
       " 'Financial prudence important to tide through difficult periods, say askST @ NLB speakers',\n",
       " 'Cathay launches CineHome movie streaming service, prices to start from $5.98 per title',\n",
       " 'The Life List: Celebs who lashed out with lawsuits over their image and likeness',\n",
       " 'Wonder Woman movie sequel delayed two months to December',\n",
       " 'Malaysian actress Yeo Yann Yann nominated for Best Actress at Asian Film Awards',\n",
       " 'Game Of Thrones, The Avengers actress Diana Rigg dies at 82',\n",
       " 'Hong Kong actor Eddie Cheung says Felix Wong is a true friend while celebrating his birthday']"
      ]
     },
     "execution_count": 12,
     "metadata": {},
     "output_type": "execute_result"
    }
   ],
   "source": [
    "st_url = \"https://www.straitstimes.com/\"\n",
    "\n",
    "page = requests.get(st_url, headers={'user-agent': 'Mozilla/5.0 (X11; Linux i686; rv:10.0) Gecko/20100101 Firefox/10.0'}).text\n",
    "soup = BeautifulSoup(page)\n",
    "soup\n",
    "title = soup.find_all('h3')\n",
    "text = [tag.get_text().strip() for tag in title]\n",
    "text"
   ]
  },
  {
   "cell_type": "code",
   "execution_count": 13,
   "metadata": {},
   "outputs": [],
   "source": [
    "st = pd.DataFrame(text)\n",
    "st.to_csv(\"st_13sept.csv\")"
   ]
  },
  {
   "cell_type": "code",
   "execution_count": null,
   "metadata": {},
   "outputs": [],
   "source": []
  }
 ],
 "metadata": {
  "kernelspec": {
   "display_name": "Python 3",
   "language": "python",
   "name": "python3"
  },
  "language_info": {
   "codemirror_mode": {
    "name": "ipython",
    "version": 3
   },
   "file_extension": ".py",
   "mimetype": "text/x-python",
   "name": "python",
   "nbconvert_exporter": "python",
   "pygments_lexer": "ipython3",
   "version": "3.7.6"
  }
 },
 "nbformat": 4,
 "nbformat_minor": 4
}
